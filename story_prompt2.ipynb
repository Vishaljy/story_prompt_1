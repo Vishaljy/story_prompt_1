{
 "cells": [
  {
   "cell_type": "code",
   "execution_count": 1,
   "id": "5a12635d-1225-4ffa-b7e8-bb0328e88d98",
   "metadata": {},
   "outputs": [
    {
     "name": "stdout",
     "output_type": "stream",
     "text": [
      "In your turn, write about a brilliant scientist has travelled to the mars through a space shuttle who, in he has seen an unknown planet which was mysterious , there he discovers a new portal to another universe which was mysteriously faded. Push the narrative forward by adding a twist: suddenly and huge monster comes from the portal and starts chasing him.\n"
     ]
    }
   ],
   "source": [
    "import random\n",
    "\n",
    "# Predefined elements for generating story prompts\n",
    "characters = [\n",
    "    \n",
    "    \"a brilliant scientist has travelled to the mars through a space shuttle\"\n",
    "]\n",
    "\n",
    "settings = [\n",
    "    \"he has seen an unknown planet which was mysterious \"\n",
    "]\n",
    "\n",
    "plot_points = [\n",
    "    \"there he discovers a new portal to another universe which was mysteriously faded\"\n",
    "]\n",
    "\n",
    "twists = [\n",
    "     \"suddenly and huge monster comes from the portal and starts chasing him\"\n",
    "]\n",
    "\n",
    "def generate_story_prompt():\n",
    "    character = random.choice(characters)\n",
    "    setting = random.choice(settings)\n",
    "    plot_point = random.choice(plot_points)\n",
    "    twist = random.choice(twists)\n",
    "\n",
    "    prompt = (\n",
    "        f\"In your turn, write about {character} who, in {setting}, {plot_point}. \"\n",
    "        f\"Push the narrative forward by adding a twist: {twist}.\"\n",
    "    )\n",
    "    return prompt\n",
    "\n",
    "# Generate and print a random story prompt\n",
    "print(generate_story_prompt())"
   ]
  },
  {
   "cell_type": "code",
   "execution_count": null,
   "id": "acccc709-9f70-4838-a1ac-3583de5ffffe",
   "metadata": {},
   "outputs": [],
   "source": []
  }
 ],
 "metadata": {
  "kernelspec": {
   "display_name": "Python 3 (ipykernel)",
   "language": "python",
   "name": "python3"
  },
  "language_info": {
   "codemirror_mode": {
    "name": "ipython",
    "version": 3
   },
   "file_extension": ".py",
   "mimetype": "text/x-python",
   "name": "python",
   "nbconvert_exporter": "python",
   "pygments_lexer": "ipython3",
   "version": "3.11.7"
  }
 },
 "nbformat": 4,
 "nbformat_minor": 5
}
